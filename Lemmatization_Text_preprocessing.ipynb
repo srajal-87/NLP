{
 "cells": [
  {
   "cell_type": "markdown",
   "id": "0dc8b2b1",
   "metadata": {},
   "source": [
    "## Lemmatization\n",
    "### Lemmatization is the process of transforming a word to its base or root form, known as the lemma, which is a valid word found in the dictionary. Unlike stemming, which simply cuts off prefixes or suffixes based on predefined rules, lemmatization takes into account the morphological analysis of the words and often requires understanding the context in which the word is used."
   ]
  },
  {
   "cell_type": "code",
   "execution_count": 9,
   "id": "f4d15b06",
   "metadata": {},
   "outputs": [
    {
     "name": "stderr",
     "output_type": "stream",
     "text": [
      "[nltk_data] Downloading package wordnet to\n",
      "[nltk_data]     C:\\Users\\hp\\AppData\\Roaming\\nltk_data...\n"
     ]
    },
    {
     "data": {
      "text/plain": [
       "True"
      ]
     },
     "execution_count": 9,
     "metadata": {},
     "output_type": "execute_result"
    }
   ],
   "source": [
    "import nltk\n",
    "nltk.download('wordnet')"
   ]
  },
  {
   "cell_type": "code",
   "execution_count": 10,
   "id": "61d816c6",
   "metadata": {},
   "outputs": [],
   "source": [
    "from nltk.stem import WordNetLemmatizer"
   ]
  },
  {
   "cell_type": "code",
   "execution_count": 11,
   "id": "e249509c",
   "metadata": {},
   "outputs": [],
   "source": [
    "## Pos\n",
    "## Noun->n\n",
    "# verb->v\n",
    "# adjective->a\n",
    "# adverb->r\n",
    "lemmatizer=WordNetLemmatizer()"
   ]
  },
  {
   "cell_type": "code",
   "execution_count": 12,
   "id": "a81c18e6",
   "metadata": {},
   "outputs": [],
   "source": [
    "words=['eats','eating','eates','goes','going','gone','finally','takeing','moving','moves','history','completion','morning']"
   ]
  },
  {
   "cell_type": "code",
   "execution_count": 14,
   "id": "af80d644",
   "metadata": {},
   "outputs": [
    {
     "name": "stdout",
     "output_type": "stream",
     "text": [
      "eats------>eat\n",
      "eating------>eat\n",
      "eates------>eat\n",
      "goes------>go\n",
      "going------>go\n",
      "gone------>go\n",
      "finally------>finally\n",
      "takeing------>take\n",
      "moving------>move\n",
      "moves------>move\n",
      "history------>history\n",
      "completion------>completion\n",
      "morning------>morning\n"
     ]
    }
   ],
   "source": [
    "for word in words:\n",
    "    print(word+'------>'+lemmatizer.lemmatize(word,pos='v'))"
   ]
  },
  {
   "cell_type": "code",
   "execution_count": null,
   "id": "3a709b6e",
   "metadata": {},
   "outputs": [],
   "source": []
  }
 ],
 "metadata": {
  "kernelspec": {
   "display_name": "Python 3 (ipykernel)",
   "language": "python",
   "name": "python3"
  },
  "language_info": {
   "codemirror_mode": {
    "name": "ipython",
    "version": 3
   },
   "file_extension": ".py",
   "mimetype": "text/x-python",
   "name": "python",
   "nbconvert_exporter": "python",
   "pygments_lexer": "ipython3",
   "version": "3.11.5"
  }
 },
 "nbformat": 4,
 "nbformat_minor": 5
}
