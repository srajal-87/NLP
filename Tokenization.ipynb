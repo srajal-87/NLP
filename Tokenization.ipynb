{
 "cells": [
  {
   "cell_type": "code",
   "execution_count": 7,
   "id": "8feed9c0",
   "metadata": {},
   "outputs": [
    {
     "name": "stdout",
     "output_type": "stream",
     "text": [
      "Requirement already satisfied: nltk in c:\\users\\hp\\anaconda3\\lib\\site-packages (3.8.1)\n",
      "Requirement already satisfied: click in c:\\users\\hp\\anaconda3\\lib\\site-packages (from nltk) (8.0.4)\n",
      "Requirement already satisfied: joblib in c:\\users\\hp\\anaconda3\\lib\\site-packages (from nltk) (1.2.0)\n",
      "Requirement already satisfied: regex>=2021.8.3 in c:\\users\\hp\\anaconda3\\lib\\site-packages (from nltk) (2022.7.9)\n",
      "Requirement already satisfied: tqdm in c:\\users\\hp\\anaconda3\\lib\\site-packages (from nltk) (4.65.0)\n",
      "Requirement already satisfied: colorama in c:\\users\\hp\\anaconda3\\lib\\site-packages (from click->nltk) (0.4.6)\n",
      "Note: you may need to restart the kernel to use updated packages.\n"
     ]
    }
   ],
   "source": [
    "pip install nltk"
   ]
  },
  {
   "cell_type": "code",
   "execution_count": 14,
   "id": "984a19eb",
   "metadata": {},
   "outputs": [
    {
     "name": "stderr",
     "output_type": "stream",
     "text": [
      "[nltk_data] Downloading package punkt to\n",
      "[nltk_data]     C:\\Users\\hp\\AppData\\Roaming\\nltk_data...\n",
      "[nltk_data]   Unzipping tokenizers\\punkt.zip.\n"
     ]
    },
    {
     "data": {
      "text/plain": [
       "True"
      ]
     },
     "execution_count": 14,
     "metadata": {},
     "output_type": "execute_result"
    }
   ],
   "source": [
    "import nltk\n",
    "nltk.download('punkt')"
   ]
  },
  {
   "cell_type": "code",
   "execution_count": 50,
   "id": "22ad39fc",
   "metadata": {},
   "outputs": [],
   "source": [
    "corpus=\"\"\" Hello! I am srajal sahu a Ml engineer. I have just completed a krish naik machine learning course on udemy.\n",
    "I am really passionate and eager to learn new technologie's and develop my skil's .\n",
    "\"\"\""
   ]
  },
  {
   "cell_type": "code",
   "execution_count": 51,
   "id": "d5f62e08",
   "metadata": {},
   "outputs": [
    {
     "data": {
      "text/plain": [
       "\" Hello! I am srajal sahu a Ml engineer. I have just completed a krish naik machine learning course on udemy.\\nI am really passionate and eager to learn new technologie's and develop my skil's .\\n\""
      ]
     },
     "execution_count": 51,
     "metadata": {},
     "output_type": "execute_result"
    }
   ],
   "source": [
    "corpus"
   ]
  },
  {
   "cell_type": "code",
   "execution_count": 52,
   "id": "3fcc3a1e",
   "metadata": {},
   "outputs": [],
   "source": [
    "from nltk.tokenize import sent_tokenize"
   ]
  },
  {
   "cell_type": "code",
   "execution_count": 53,
   "id": "ee2149dc",
   "metadata": {},
   "outputs": [],
   "source": [
    "## convert paragraph->sentences\n",
    "documents=sent_tokenize(corpus)"
   ]
  },
  {
   "cell_type": "code",
   "execution_count": 54,
   "id": "96189cbe",
   "metadata": {},
   "outputs": [
    {
     "name": "stdout",
     "output_type": "stream",
     "text": [
      " Hello!\n",
      "I am srajal sahu a Ml engineer.\n",
      "I have just completed a krish naik machine learning course on udemy.\n",
      "I am really passionate and eager to learn new technologie's and develop my skil's .\n"
     ]
    }
   ],
   "source": [
    "for sentence in documents:\n",
    "    print(sentence)"
   ]
  },
  {
   "cell_type": "code",
   "execution_count": 41,
   "id": "48bb225a",
   "metadata": {},
   "outputs": [],
   "source": [
    "from nltk.tokenize import word_tokenize"
   ]
  },
  {
   "cell_type": "code",
   "execution_count": 42,
   "id": "0fe96340",
   "metadata": {},
   "outputs": [
    {
     "name": "stdout",
     "output_type": "stream",
     "text": [
      "['Hello', '!']\n",
      "['I', 'am', 'srajal', 'sahu', 'a', 'Ml', 'engineer', '.']\n",
      "['I', 'have', 'just', 'completed', 'a', 'krish', 'naik', 'machine', 'learning', 'course', 'on', 'udemy', '.']\n",
      "['I', 'am', 'really', 'passionate', 'and', 'eager', 'to', 'learn', 'new', 'technologie', \"'s\", 'and', 'develop', 'my', 'skil', \"'s\", '.']\n"
     ]
    }
   ],
   "source": [
    "## convert sentence->words\n",
    "for sentence in documents:\n",
    "    print(word_tokenize(sentence))"
   ]
  },
  {
   "cell_type": "code",
   "execution_count": 43,
   "id": "350c67b0",
   "metadata": {},
   "outputs": [],
   "source": [
    "from nltk.tokenize import wordpunct_tokenize\n"
   ]
  },
  {
   "cell_type": "code",
   "execution_count": 67,
   "id": "bf794df3",
   "metadata": {},
   "outputs": [
    {
     "data": {
      "text/plain": [
       "['Hello',\n",
       " '!',\n",
       " 'I',\n",
       " 'am',\n",
       " 'srajal',\n",
       " 'sahu',\n",
       " 'a',\n",
       " 'Ml',\n",
       " 'engineer',\n",
       " '.',\n",
       " 'I',\n",
       " 'have',\n",
       " 'just',\n",
       " 'completed',\n",
       " 'a',\n",
       " 'krish',\n",
       " 'naik',\n",
       " 'machine',\n",
       " 'learning',\n",
       " 'course',\n",
       " 'on',\n",
       " 'udemy',\n",
       " '.',\n",
       " 'I',\n",
       " 'am',\n",
       " 'really',\n",
       " 'passionate',\n",
       " 'and',\n",
       " 'eager',\n",
       " 'to',\n",
       " 'learn',\n",
       " 'new',\n",
       " 'technologie',\n",
       " \"'\",\n",
       " 's',\n",
       " 'and',\n",
       " 'develop',\n",
       " 'my',\n",
       " 'skil',\n",
       " \"'\",\n",
       " 's',\n",
       " '.']"
      ]
     },
     "execution_count": 67,
     "metadata": {},
     "output_type": "execute_result"
    }
   ],
   "source": [
    "# convert sentences -> words(punctuation(''))\n",
    "\n",
    "wordpunct_tokenize(corpus)"
   ]
  },
  {
   "cell_type": "code",
   "execution_count": 64,
   "id": "be1d64ba",
   "metadata": {},
   "outputs": [],
   "source": [
    "from nltk.tokenize import TreebankWordTokenizer\n",
    "tokenizer=TreebankWordTokenizer()"
   ]
  },
  {
   "cell_type": "code",
   "execution_count": 65,
   "id": "6445fb4b",
   "metadata": {},
   "outputs": [
    {
     "data": {
      "text/plain": [
       "['Hello',\n",
       " '!',\n",
       " 'I',\n",
       " 'am',\n",
       " 'srajal',\n",
       " 'sahu',\n",
       " 'a',\n",
       " 'Ml',\n",
       " 'engineer.',\n",
       " 'I',\n",
       " 'have',\n",
       " 'just',\n",
       " 'completed',\n",
       " 'a',\n",
       " 'krish',\n",
       " 'naik',\n",
       " 'machine',\n",
       " 'learning',\n",
       " 'course',\n",
       " 'on',\n",
       " 'udemy.',\n",
       " 'I',\n",
       " 'am',\n",
       " 'really',\n",
       " 'passionate',\n",
       " 'and',\n",
       " 'eager',\n",
       " 'to',\n",
       " 'learn',\n",
       " 'new',\n",
       " 'technologie',\n",
       " \"'s\",\n",
       " 'and',\n",
       " 'develop',\n",
       " 'my',\n",
       " 'skil',\n",
       " \"'s\",\n",
       " '.']"
      ]
     },
     "execution_count": 65,
     "metadata": {},
     "output_type": "execute_result"
    }
   ],
   "source": [
    "tokenizer.tokenize(corpus)"
   ]
  },
  {
   "cell_type": "code",
   "execution_count": null,
   "id": "13905849",
   "metadata": {},
   "outputs": [],
   "source": []
  }
 ],
 "metadata": {
  "kernelspec": {
   "display_name": "Python 3 (ipykernel)",
   "language": "python",
   "name": "python3"
  },
  "language_info": {
   "codemirror_mode": {
    "name": "ipython",
    "version": 3
   },
   "file_extension": ".py",
   "mimetype": "text/x-python",
   "name": "python",
   "nbconvert_exporter": "python",
   "pygments_lexer": "ipython3",
   "version": "3.11.5"
  }
 },
 "nbformat": 4,
 "nbformat_minor": 5
}
